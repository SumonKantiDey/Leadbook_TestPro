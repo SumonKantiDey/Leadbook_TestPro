{
 "cells": [
  {
   "cell_type": "code",
   "execution_count": 11,
   "metadata": {},
   "outputs": [
    {
     "name": "stderr",
     "output_type": "stream",
     "text": [
      "[nltk_data] Downloading package wordnet to\n",
      "[nltk_data]     C:\\Users\\sumon\\AppData\\Roaming\\nltk_data...\n",
      "[nltk_data]   Package wordnet is already up-to-date!\n"
     ]
    }
   ],
   "source": [
    "import nltk\n",
    "import sys\n",
    "import os\n",
    "import re\n",
    "import numpy as np\n",
    "import pandas as pd\n",
    "nltk.download('wordnet')\n",
    "w_tokenizer = nltk.tokenize.WhitespaceTokenizer()\n",
    "lemmatizer = nltk.stem.WordNetLemmatizer()"
   ]
  },
  {
   "cell_type": "code",
   "execution_count": 12,
   "metadata": {},
   "outputs": [],
   "source": [
    "valid = pd.read_csv('valid.txt',delimiter=\"\\t\",header=None)\n",
    "valid.columns = [\"text\"]\n",
    "valid['label'] = 1"
   ]
  },
  {
   "cell_type": "code",
   "execution_count": 13,
   "metadata": {},
   "outputs": [],
   "source": [
    "invalid = pd.read_csv('invalid.txt',delimiter=\"\\t\",header=None)\n",
    "invalid.columns = [\"text\"]\n",
    "invalid['label'] = 0"
   ]
  },
  {
   "cell_type": "code",
   "execution_count": 14,
   "metadata": {},
   "outputs": [],
   "source": [
    "valid = valid.sample(frac=1)\n",
    "invalid = invalid.sample(frac=1)"
   ]
  },
  {
   "cell_type": "code",
   "execution_count": 15,
   "metadata": {},
   "outputs": [],
   "source": [
    "\n",
    "test_valid = valid[:60]\n",
    "train_valid = valid[60:]\n",
    "test_invalid = invalid[:40]\n",
    "train_invalid = invalid[40:]"
   ]
  },
  {
   "cell_type": "code",
   "execution_count": 16,
   "metadata": {},
   "outputs": [],
   "source": [
    "test = pd.concat([test_valid, test_invalid],ignore_index=True)\n",
    "test = test.sample(frac=1).reset_index(drop=True)"
   ]
  },
  {
   "cell_type": "code",
   "execution_count": 17,
   "metadata": {},
   "outputs": [],
   "source": [
    "train = pd.concat([train_valid, train_invalid],ignore_index=True)\n",
    "train = train.sample(frac=1).reset_index(drop=True)"
   ]
  },
  {
   "cell_type": "code",
   "execution_count": 18,
   "metadata": {},
   "outputs": [
    {
     "name": "stdout",
     "output_type": "stream",
     "text": [
      "valid text =  1400\n",
      "invalid text =  318\n",
      "test data =  100\n",
      "train data =  1618\n"
     ]
    }
   ],
   "source": [
    "print(\"valid text = \",len(valid))\n",
    "print(\"invalid text = \",len(invalid))\n",
    "print(\"test data = \",len(test))\n",
    "print(\"train data = \",len(train))"
   ]
  },
  {
   "cell_type": "code",
   "execution_count": 19,
   "metadata": {},
   "outputs": [],
   "source": [
    "def prep_text(text):\n",
    "    punctuations = ',@#!?+&*[]-%.:/();$=><|{}^' + \"'`\"\n",
    "    text = text.strip().lower()\n",
    "    for p in punctuations:\n",
    "        text = text.replace(p, f' {p} ')\n",
    "    text = re.sub('\\W+',' ', text)\n",
    "    text = re.sub(r'(\\\")', ' ', text)\n",
    "    text = re.sub(r\"\\\\r|\\\\n\", \" \", text)\n",
    "    text = [lemmatizer.lemmatize(w) for w in w_tokenizer.tokenize(text)]\n",
    "    text = ' '.join(text)\n",
    "    return text\n",
    "train['text'] = train['text'].apply(lambda x: prep_text(x))\n",
    "test['text'] = test['text'].apply(lambda x: prep_text(x))"
   ]
  },
  {
   "cell_type": "code",
   "execution_count": 20,
   "metadata": {},
   "outputs": [],
   "source": [
    "train.to_csv('data/train.csv',index=False)\n",
    "test.to_csv('data/test.csv',index=False)"
   ]
  },
  {
   "cell_type": "code",
   "execution_count": null,
   "metadata": {},
   "outputs": [],
   "source": []
  },
  {
   "cell_type": "code",
   "execution_count": null,
   "metadata": {},
   "outputs": [],
   "source": []
  }
 ],
 "metadata": {
  "kernelspec": {
   "display_name": "Python 3",
   "language": "python",
   "name": "python3"
  },
  "language_info": {
   "codemirror_mode": {
    "name": "ipython",
    "version": 3
   },
   "file_extension": ".py",
   "mimetype": "text/x-python",
   "name": "python",
   "nbconvert_exporter": "python",
   "pygments_lexer": "ipython3",
   "version": "3.7.3"
  }
 },
 "nbformat": 4,
 "nbformat_minor": 2
}
