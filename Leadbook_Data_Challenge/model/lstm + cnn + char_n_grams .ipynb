{
 "cells": [
  {
   "cell_type": "code",
   "execution_count": 1,
   "metadata": {},
   "outputs": [
    {
     "name": "stderr",
     "output_type": "stream",
     "text": [
      "Using TensorFlow backend.\n"
     ]
    }
   ],
   "source": [
    "import nltk\n",
    "import sys\n",
    "import os\n",
    "import re\n",
    "import numpy as np\n",
    "import pandas as pd\n",
    "import matplotlib.pyplot as plt\n",
    "import tensorflow as tf\n",
    "from keras.preprocessing.text import Tokenizer\n",
    "from keras.preprocessing.sequence import pad_sequences\n",
    "from keras.layers import Dense, Input, LSTM, Embedding, Dropout, Activation, GRU,Conv1D,MaxPooling1D\n",
    "from keras.layers import Bidirectional, GlobalMaxPool1D\n",
    "from keras.models import Model\n",
    "from keras import initializers, regularizers, constraints, optimizers, layers\n",
    "from keras.callbacks import EarlyStopping, ModelCheckpoint\n",
    "from sklearn.model_selection import train_test_split\n",
    "from keras.models import load_model\n",
    "from keras.utils import np_utils"
   ]
  },
  {
   "cell_type": "code",
   "execution_count": 2,
   "metadata": {},
   "outputs": [
    {
     "name": "stdout",
     "output_type": "stream",
     "text": [
      "train =  1618\n",
      "test =  100\n"
     ]
    }
   ],
   "source": [
    "#read data\n",
    "train = pd.read_csv('data/train.csv')\n",
    "test = pd.read_csv('data/test.csv')\n",
    "print(\"train = \",len(train))\n",
    "print(\"test = \",len(test))\n",
    "train = train.dropna().reset_index(drop=True)\n",
    "test = test.dropna().reset_index(drop=True)"
   ]
  },
  {
   "cell_type": "code",
   "execution_count": 4,
   "metadata": {},
   "outputs": [],
   "source": [
    "# train = df[:1501]\n",
    "# test = df[1501:]\n",
    "# train = train.reset_index(drop=True)\n",
    "# test = test.reset_index(drop=True)\n",
    "y_train = train['label'].values\n",
    "y_test = test['label'].values\n",
    "y_train, y_test = [np_utils.to_categorical(x) for x in [y_train, y_test]]"
   ]
  },
  {
   "cell_type": "code",
   "execution_count": 5,
   "metadata": {},
   "outputs": [],
   "source": [
    "X_train = train[\"text\"]\n",
    "X_test = test[\"text\"]\n",
    "max_features = 200\n",
    "tokenizer = Tokenizer(num_words=max_features,char_level=True)\n",
    "tokenizer.fit_on_texts(list(X_train)+list(X_test))"
   ]
  },
  {
   "cell_type": "code",
   "execution_count": 6,
   "metadata": {},
   "outputs": [],
   "source": [
    "X_train = tokenizer.texts_to_sequences(X_train)\n",
    "X_test = tokenizer.texts_to_sequences(X_test)"
   ]
  },
  {
   "cell_type": "code",
   "execution_count": 7,
   "metadata": {},
   "outputs": [],
   "source": [
    "maxlen = 500\n",
    "x_train = pad_sequences(X_train, maxlen=maxlen)\n",
    "x_test = pad_sequences(X_test, maxlen=maxlen)"
   ]
  },
  {
   "cell_type": "code",
   "execution_count": 8,
   "metadata": {},
   "outputs": [],
   "source": [
    "embed_size = 240"
   ]
  },
  {
   "cell_type": "code",
   "execution_count": 9,
   "metadata": {},
   "outputs": [],
   "source": [
    "def buid_model():\n",
    "    inp = Input(shape=(maxlen, ))\n",
    "    x = Embedding(len(tokenizer.word_index)+1, embed_size)(inp)\n",
    "    x = Conv1D(filters=100,kernel_size=4,padding='same', activation='relu')(x)\n",
    "    x = MaxPooling1D(pool_size=4)(x)\n",
    "    x = Bidirectional(GRU(60, return_sequences=True,name='lstm_layer',dropout=0.2,recurrent_dropout=0.2))(x)\n",
    "    x = GlobalMaxPool1D()(x)\n",
    "    x = Dense(50, activation=\"relu\")(x)\n",
    "    x = Dense(2, activation=\"softmax\")(x)\n",
    "    model = Model(inputs=inp, outputs=x)\n",
    "    model.compile(loss='binary_crossentropy',optimizer='adam',metrics=['accuracy'])\n",
    "    return model"
   ]
  },
  {
   "cell_type": "code",
   "execution_count": 10,
   "metadata": {},
   "outputs": [
    {
     "name": "stdout",
     "output_type": "stream",
     "text": [
      "Model: \"model_1\"\n",
      "_________________________________________________________________\n",
      "Layer (type)                 Output Shape              Param #   \n",
      "=================================================================\n",
      "input_1 (InputLayer)         (None, 500)               0         \n",
      "_________________________________________________________________\n",
      "embedding_1 (Embedding)      (None, 500, 240)          10320     \n",
      "_________________________________________________________________\n",
      "conv1d_1 (Conv1D)            (None, 500, 100)          96100     \n",
      "_________________________________________________________________\n",
      "max_pooling1d_1 (MaxPooling1 (None, 125, 100)          0         \n",
      "_________________________________________________________________\n",
      "bidirectional_1 (Bidirection (None, 125, 120)          57960     \n",
      "_________________________________________________________________\n",
      "global_max_pooling1d_1 (Glob (None, 120)               0         \n",
      "_________________________________________________________________\n",
      "dense_1 (Dense)              (None, 50)                6050      \n",
      "_________________________________________________________________\n",
      "dense_2 (Dense)              (None, 2)                 102       \n",
      "=================================================================\n",
      "Total params: 170,532\n",
      "Trainable params: 170,532\n",
      "Non-trainable params: 0\n",
      "_________________________________________________________________\n"
     ]
    }
   ],
   "source": [
    "model = buid_model()\n",
    "model.summary()"
   ]
  },
  {
   "cell_type": "code",
   "execution_count": 11,
   "metadata": {},
   "outputs": [],
   "source": [
    "X_tra, X_val, y_tra, y_val = train_test_split(x_train, y_train, train_size=0.95, random_state=233)"
   ]
  },
  {
   "cell_type": "code",
   "execution_count": 12,
   "metadata": {},
   "outputs": [],
   "source": [
    "# only save the best model\n",
    "f_path = 'model.h5'\n",
    "msave = ModelCheckpoint(f_path, save_best_only=True)"
   ]
  },
  {
   "cell_type": "code",
   "execution_count": 13,
   "metadata": {},
   "outputs": [
    {
     "name": "stderr",
     "output_type": "stream",
     "text": [
      "C:\\Users\\sumon\\Anaconda3\\lib\\site-packages\\tensorflow_core\\python\\framework\\indexed_slices.py:424: UserWarning: Converting sparse IndexedSlices to a dense Tensor of unknown shape. This may consume a large amount of memory.\n",
      "  \"Converting sparse IndexedSlices to a dense Tensor of unknown shape. \"\n"
     ]
    },
    {
     "name": "stdout",
     "output_type": "stream",
     "text": [
      "Train on 1532 samples, validate on 81 samples\n",
      "Epoch 1/50\n",
      "1532/1532 [==============================] - 21s 14ms/step - loss: 0.3716 - accuracy: 0.9426 - val_loss: 0.1106 - val_accuracy: 0.9753\n",
      "Epoch 2/50\n",
      "1532/1532 [==============================] - 20s 13ms/step - loss: 0.3313 - accuracy: 0.9785 - val_loss: 0.1106 - val_accuracy: 0.9753\n",
      "Epoch 3/50\n",
      "1532/1532 [==============================] - 20s 13ms/step - loss: 0.3714 - accuracy: 0.9758 - val_loss: 0.1106 - val_accuracy: 0.9753\n",
      "Epoch 4/50\n",
      "1532/1532 [==============================] - 20s 13ms/step - loss: 0.4529 - accuracy: 0.9700 - val_loss: 0.1371 - val_accuracy: 0.9753\n",
      "Epoch 5/50\n",
      "1532/1532 [==============================] - 19s 13ms/step - loss: 0.5622 - accuracy: 0.9634 - val_loss: 0.1358 - val_accuracy: 0.9753\n",
      "Epoch 6/50\n",
      "1532/1532 [==============================] - 19s 13ms/step - loss: 0.5521 - accuracy: 0.9641 - val_loss: 0.1358 - val_accuracy: 0.9753\n",
      "Epoch 7/50\n",
      "1532/1532 [==============================] - 20s 13ms/step - loss: 0.5120 - accuracy: 0.9667 - val_loss: 0.1358 - val_accuracy: 0.9753\n",
      "Epoch 8/50\n",
      "1532/1532 [==============================] - 20s 13ms/step - loss: 0.5923 - accuracy: 0.9615 - val_loss: 0.1358 - val_accuracy: 0.9753\n",
      "Epoch 9/50\n",
      "1532/1532 [==============================] - 19s 13ms/step - loss: 0.6224 - accuracy: 0.9595 - val_loss: 0.1358 - val_accuracy: 0.9753\n",
      "Epoch 10/50\n",
      "1532/1532 [==============================] - 19s 13ms/step - loss: 0.5622 - accuracy: 0.9634 - val_loss: 0.1358 - val_accuracy: 0.9753\n",
      "Epoch 11/50\n",
      "1532/1532 [==============================] - 20s 13ms/step - loss: 0.5320 - accuracy: 0.9654 - val_loss: 0.1358 - val_accuracy: 0.9753\n",
      "Epoch 12/50\n",
      "1532/1532 [==============================] - 20s 13ms/step - loss: 0.4919 - accuracy: 0.9680 - val_loss: 0.1358 - val_accuracy: 0.9753\n",
      "Epoch 13/50\n",
      "1532/1532 [==============================] - 22s 15ms/step - loss: 0.6124 - accuracy: 0.9602 - val_loss: 0.1358 - val_accuracy: 0.9753\n",
      "Epoch 14/50\n",
      "1532/1532 [==============================] - 20s 13ms/step - loss: 0.6124 - accuracy: 0.9602 - val_loss: 0.1358 - val_accuracy: 0.9753\n",
      "Epoch 15/50\n",
      "1532/1532 [==============================] - 20s 13ms/step - loss: 0.5622 - accuracy: 0.9634 - val_loss: 0.1358 - val_accuracy: 0.9753\n",
      "Epoch 16/50\n",
      "1532/1532 [==============================] - 21s 14ms/step - loss: 0.5822 - accuracy: 0.9621 - val_loss: 0.1358 - val_accuracy: 0.9753\n",
      "Epoch 17/50\n",
      "1532/1532 [==============================] - 21s 14ms/step - loss: 0.8333 - accuracy: 0.9458 - val_loss: 0.2718 - val_accuracy: 0.9506\n",
      "Epoch 18/50\n",
      "1532/1532 [==============================] - 24s 16ms/step - loss: 1.0440 - accuracy: 0.9321 - val_loss: 0.2718 - val_accuracy: 0.9506\n",
      "Epoch 19/50\n",
      "1532/1532 [==============================] - 19s 12ms/step - loss: 0.8936 - accuracy: 0.9419 - val_loss: 0.0882 - val_accuracy: 0.9877\n",
      "Epoch 20/50\n",
      "1532/1532 [==============================] - 19s 13ms/step - loss: 0.5822 - accuracy: 0.9621 - val_loss: 0.0892 - val_accuracy: 0.9877\n",
      "Epoch 21/50\n",
      "1532/1532 [==============================] - 20s 13ms/step - loss: 0.5120 - accuracy: 0.9667 - val_loss: 0.0892 - val_accuracy: 0.9877\n",
      "Epoch 22/50\n",
      "1532/1532 [==============================] - 19s 13ms/step - loss: 0.4919 - accuracy: 0.9680 - val_loss: 0.0892 - val_accuracy: 0.9877\n",
      "Epoch 23/50\n",
      "1532/1532 [==============================] - 20s 13ms/step - loss: 0.4919 - accuracy: 0.9680 - val_loss: 0.0892 - val_accuracy: 0.9877\n",
      "Epoch 24/50\n",
      "1532/1532 [==============================] - 19s 13ms/step - loss: 0.5622 - accuracy: 0.9634 - val_loss: 0.0892 - val_accuracy: 0.9877\n",
      "Epoch 25/50\n",
      "1532/1532 [==============================] - 20s 13ms/step - loss: 0.5521 - accuracy: 0.9641 - val_loss: 0.0892 - val_accuracy: 0.9877\n",
      "Epoch 26/50\n",
      "1532/1532 [==============================] - 39s 25ms/step - loss: 0.4718 - accuracy: 0.9693 - val_loss: 0.0892 - val_accuracy: 0.9877\n",
      "Epoch 27/50\n",
      "1532/1532 [==============================] - 31s 20ms/step - loss: 0.5019 - accuracy: 0.9674 - val_loss: 0.0892 - val_accuracy: 0.9877\n",
      "Epoch 28/50\n",
      "1532/1532 [==============================] - 22s 14ms/step - loss: 0.5521 - accuracy: 0.9641 - val_loss: 0.0892 - val_accuracy: 0.9877\n",
      "Epoch 29/50\n",
      "1532/1532 [==============================] - 21s 14ms/step - loss: 0.5320 - accuracy: 0.9654 - val_loss: 0.0892 - val_accuracy: 0.9877\n",
      "Epoch 30/50\n",
      "1532/1532 [==============================] - 22s 14ms/step - loss: 0.4819 - accuracy: 0.9687 - val_loss: 0.0892 - val_accuracy: 0.9877\n",
      "Epoch 31/50\n",
      "1532/1532 [==============================] - 21s 13ms/step - loss: 0.6124 - accuracy: 0.9602 - val_loss: 0.0892 - val_accuracy: 0.9877\n",
      "Epoch 32/50\n",
      "1532/1532 [==============================] - 20s 13ms/step - loss: 0.5220 - accuracy: 0.9661 - val_loss: 0.0892 - val_accuracy: 0.9877\n",
      "Epoch 33/50\n",
      "1532/1532 [==============================] - 21s 14ms/step - loss: 0.5320 - accuracy: 0.9654 - val_loss: 0.0892 - val_accuracy: 0.9877\n",
      "Epoch 34/50\n",
      "1532/1532 [==============================] - 20s 13ms/step - loss: 0.5421 - accuracy: 0.9648 - val_loss: 0.0892 - val_accuracy: 0.9877\n",
      "Epoch 35/50\n",
      "1532/1532 [==============================] - 21s 14ms/step - loss: 0.5622 - accuracy: 0.9634 - val_loss: 0.0892 - val_accuracy: 0.9877\n",
      "Epoch 36/50\n",
      "1532/1532 [==============================] - 21s 14ms/step - loss: 0.5421 - accuracy: 0.9648 - val_loss: 0.0892 - val_accuracy: 0.9877\n",
      "Epoch 37/50\n",
      "1532/1532 [==============================] - 22s 14ms/step - loss: 0.5521 - accuracy: 0.9641 - val_loss: 0.0892 - val_accuracy: 0.9877\n",
      "Epoch 38/50\n",
      "1532/1532 [==============================] - 24s 15ms/step - loss: 0.5320 - accuracy: 0.9654 - val_loss: 0.0892 - val_accuracy: 0.9877\n",
      "Epoch 39/50\n",
      "1532/1532 [==============================] - 27s 17ms/step - loss: 0.5019 - accuracy: 0.9674 - val_loss: 0.0892 - val_accuracy: 0.9877\n",
      "Epoch 40/50\n",
      "1532/1532 [==============================] - 21s 14ms/step - loss: 0.5120 - accuracy: 0.9667 - val_loss: 0.0892 - val_accuracy: 0.9877\n",
      "Epoch 41/50\n",
      "1532/1532 [==============================] - 20s 13ms/step - loss: 0.5521 - accuracy: 0.9641 - val_loss: 0.0892 - val_accuracy: 0.9877\n",
      "Epoch 42/50\n",
      "1532/1532 [==============================] - 19s 12ms/step - loss: 0.4919 - accuracy: 0.9680 - val_loss: 0.0892 - val_accuracy: 0.9877\n",
      "Epoch 43/50\n",
      "1532/1532 [==============================] - 19s 12ms/step - loss: 0.5220 - accuracy: 0.9661 - val_loss: 0.0892 - val_accuracy: 0.9877\n",
      "Epoch 44/50\n",
      "1532/1532 [==============================] - 20s 13ms/step - loss: 0.5019 - accuracy: 0.9674 - val_loss: 0.0892 - val_accuracy: 0.9877\n",
      "Epoch 45/50\n",
      "1532/1532 [==============================] - 20s 13ms/step - loss: 0.5019 - accuracy: 0.9674 - val_loss: 0.0892 - val_accuracy: 0.9877\n",
      "Epoch 46/50\n",
      "1532/1532 [==============================] - 19s 13ms/step - loss: 0.5320 - accuracy: 0.9654 - val_loss: 0.0892 - val_accuracy: 0.9877\n",
      "Epoch 47/50\n",
      "1532/1532 [==============================] - 20s 13ms/step - loss: 0.5622 - accuracy: 0.9634 - val_loss: 0.0892 - val_accuracy: 0.9877\n",
      "Epoch 48/50\n",
      "1532/1532 [==============================] - 20s 13ms/step - loss: 0.5521 - accuracy: 0.9641 - val_loss: 0.0892 - val_accuracy: 0.9877\n",
      "Epoch 49/50\n",
      "1532/1532 [==============================] - 19s 13ms/step - loss: 0.5120 - accuracy: 0.9667 - val_loss: 0.0892 - val_accuracy: 0.9877\n",
      "Epoch 50/50\n",
      "1532/1532 [==============================] - 20s 13ms/step - loss: 0.5923 - accuracy: 0.9615 - val_loss: 0.0892 - val_accuracy: 0.9877\n"
     ]
    }
   ],
   "source": [
    "# training\n",
    "epochs = 50\n",
    "batch_size = 8\n",
    "training = model.fit(X_tra, y_tra,\n",
    "                     validation_data=(X_val, y_val),\n",
    "                     epochs=epochs,\n",
    "                     callbacks=[msave],\n",
    "                     batch_size=batch_size, \n",
    "                     verbose=1)"
   ]
  },
  {
   "cell_type": "code",
   "execution_count": 16,
   "metadata": {},
   "outputs": [
    {
     "name": "stdout",
     "output_type": "stream",
     "text": [
      "100/100 [==============================] - 0s 2ms/step\n",
      "Test score: 0.10160845609381795\n",
      "Test accuracy: 0.9800000190734863\n"
     ]
    }
   ],
   "source": [
    "score, acc = model.evaluate(x_test, y_test, batch_size=32)\n",
    "print('Test score:', score)\n",
    "print('Test accuracy:', acc)"
   ]
  },
  {
   "cell_type": "code",
   "execution_count": 17,
   "metadata": {},
   "outputs": [
    {
     "name": "stdout",
     "output_type": "stream",
     "text": [
      "100/100 [==============================] - 2s 18ms/step\n"
     ]
    },
    {
     "data": {
      "text/plain": [
       "array([[0.00906363, 0.99093634],\n",
       "       [0.03898832, 0.96101165],\n",
       "       [0.01690998, 0.98309004],\n",
       "       [0.13594602, 0.864054  ],\n",
       "       [0.00829784, 0.99170214],\n",
       "       [0.0110754 , 0.98892456],\n",
       "       [0.01729899, 0.982701  ],\n",
       "       [0.0229989 , 0.97700113],\n",
       "       [0.02019827, 0.9798018 ],\n",
       "       [0.01454751, 0.9854525 ],\n",
       "       [0.00756363, 0.99243635],\n",
       "       [0.9365979 , 0.06340208],\n",
       "       [0.01160314, 0.9883968 ],\n",
       "       [0.01114671, 0.98885334],\n",
       "       [0.0148629 , 0.9851371 ],\n",
       "       [0.01334803, 0.986652  ],\n",
       "       [0.8895358 , 0.11046417],\n",
       "       [0.01564953, 0.98435044],\n",
       "       [0.0184247 , 0.98157525],\n",
       "       [0.9986009 , 0.00139915],\n",
       "       [0.01048407, 0.9895159 ],\n",
       "       [0.998355  , 0.001645  ],\n",
       "       [0.9386358 , 0.06136423],\n",
       "       [0.01763223, 0.98236775],\n",
       "       [0.03987497, 0.9601251 ],\n",
       "       [0.9876324 , 0.01236758],\n",
       "       [0.06929448, 0.93070555],\n",
       "       [0.01820971, 0.9817903 ],\n",
       "       [0.9983956 , 0.00160437],\n",
       "       [0.01509453, 0.9849054 ],\n",
       "       [0.01087846, 0.9891215 ],\n",
       "       [0.00763561, 0.9923644 ],\n",
       "       [0.99836856, 0.00163151],\n",
       "       [0.99869543, 0.00130457],\n",
       "       [0.01369105, 0.98630893],\n",
       "       [0.01595504, 0.9840449 ],\n",
       "       [0.01102688, 0.9889732 ],\n",
       "       [0.99858236, 0.00141766],\n",
       "       [0.9982601 , 0.00173995],\n",
       "       [0.02648646, 0.9735136 ],\n",
       "       [0.9911697 , 0.00883031],\n",
       "       [0.04027811, 0.95972186],\n",
       "       [0.05568688, 0.9443131 ],\n",
       "       [0.0126913 , 0.9873087 ],\n",
       "       [0.01820971, 0.9817903 ],\n",
       "       [0.9962417 , 0.00375827],\n",
       "       [0.9986406 , 0.00135938],\n",
       "       [0.01710914, 0.9828909 ],\n",
       "       [0.01633405, 0.98366594],\n",
       "       [0.9988431 , 0.00115689],\n",
       "       [0.05321597, 0.9467841 ],\n",
       "       [0.01236498, 0.98763496],\n",
       "       [0.02144244, 0.9785575 ],\n",
       "       [0.9986487 , 0.00135128],\n",
       "       [0.0156433 , 0.9843567 ],\n",
       "       [0.998524  , 0.00147603],\n",
       "       [0.9980666 , 0.00193339],\n",
       "       [0.9988159 , 0.00118418],\n",
       "       [0.02657535, 0.9734247 ],\n",
       "       [0.9803491 , 0.01965092],\n",
       "       [0.15979981, 0.8402002 ],\n",
       "       [0.99854845, 0.00145156],\n",
       "       [0.7260542 , 0.2739458 ],\n",
       "       [0.02139895, 0.97860104],\n",
       "       [0.04150645, 0.95849353],\n",
       "       [0.53689015, 0.46310988],\n",
       "       [0.9974177 , 0.00258234],\n",
       "       [0.00930563, 0.9906943 ],\n",
       "       [0.99820054, 0.0017994 ],\n",
       "       [0.9985196 , 0.00148046],\n",
       "       [0.99859613, 0.0014039 ],\n",
       "       [0.00750955, 0.9924905 ],\n",
       "       [0.99767727, 0.00232271],\n",
       "       [0.11814889, 0.88185114],\n",
       "       [0.9982241 , 0.00177589],\n",
       "       [0.03178235, 0.9682177 ],\n",
       "       [0.01048399, 0.989516  ],\n",
       "       [0.99738044, 0.00261953],\n",
       "       [0.99000627, 0.00999371],\n",
       "       [0.01885116, 0.9811489 ],\n",
       "       [0.998278  , 0.00172198],\n",
       "       [0.09774601, 0.902254  ],\n",
       "       [0.99293435, 0.00706573],\n",
       "       [0.01037169, 0.9896283 ],\n",
       "       [0.02111841, 0.9788816 ],\n",
       "       [0.99845624, 0.00154371],\n",
       "       [0.01238094, 0.98761904],\n",
       "       [0.04892388, 0.9510761 ],\n",
       "       [0.9975435 , 0.00245643],\n",
       "       [0.99834824, 0.00165181],\n",
       "       [0.9982273 , 0.00177265],\n",
       "       [0.00981099, 0.990189  ],\n",
       "       [0.9986779 , 0.00132204],\n",
       "       [0.99795437, 0.00204565],\n",
       "       [0.00913101, 0.99086905],\n",
       "       [0.9987184 , 0.00128166],\n",
       "       [0.01121393, 0.9887861 ],\n",
       "       [0.99760216, 0.00239791],\n",
       "       [0.9985091 , 0.00149089],\n",
       "       [0.01085566, 0.9891444 ]], dtype=float32)"
      ]
     },
     "execution_count": 17,
     "metadata": {},
     "output_type": "execute_result"
    }
   ],
   "source": [
    "preds = model.predict(x_test, batch_size=1, verbose=1)\n",
    "preds"
   ]
  },
  {
   "cell_type": "code",
   "execution_count": 18,
   "metadata": {},
   "outputs": [],
   "source": [
    "y = []\n",
    "y_pred = []\n",
    "for i, (label) in enumerate(preds):\n",
    "    predicted = np.argmax(preds[i])\n",
    "    real = np.argmax(y_test[i])\n",
    "    y.append(real)\n",
    "    y_pred.append(predicted)"
   ]
  },
  {
   "cell_type": "code",
   "execution_count": 20,
   "metadata": {},
   "outputs": [
    {
     "name": "stdout",
     "output_type": "stream",
     "text": [
      "accuracy:: 0.98\n",
      "precision:: 0.980952380952381\n",
      "recall:: 0.98\n",
      "f_score:: 0.9800744109136006\n",
      "f_score::               precision    recall  f1-score   support\n",
      "\n",
      "           0       0.95      1.00      0.98        40\n",
      "           1       1.00      0.97      0.98        60\n",
      "\n",
      "    accuracy                           0.98       100\n",
      "   macro avg       0.98      0.98      0.98       100\n",
      "weighted avg       0.98      0.98      0.98       100\n",
      "\n"
     ]
    }
   ],
   "source": [
    "from sklearn import metrics\n",
    "print('accuracy::', metrics.accuracy_score(y, y_pred))\n",
    "print('precision::', metrics.precision_score(y, y_pred, average='weighted'))\n",
    "print('recall::', metrics.recall_score(y, y_pred, average='weighted'))\n",
    "print('f_score::', metrics.f1_score(y, y_pred, average='weighted'))\n",
    "print('f_score::', metrics.classification_report(y, y_pred))"
   ]
  },
  {
   "cell_type": "code",
   "execution_count": null,
   "metadata": {},
   "outputs": [],
   "source": []
  }
 ],
 "metadata": {
  "kernelspec": {
   "display_name": "Python 3",
   "language": "python",
   "name": "python3"
  },
  "language_info": {
   "codemirror_mode": {
    "name": "ipython",
    "version": 3
   },
   "file_extension": ".py",
   "mimetype": "text/x-python",
   "name": "python",
   "nbconvert_exporter": "python",
   "pygments_lexer": "ipython3",
   "version": "3.7.3"
  }
 },
 "nbformat": 4,
 "nbformat_minor": 2
}
